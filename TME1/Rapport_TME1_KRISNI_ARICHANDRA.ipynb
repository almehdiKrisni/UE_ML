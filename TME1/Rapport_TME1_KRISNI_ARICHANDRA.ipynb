{
 "cells": [
  {
   "cell_type": "markdown",
   "metadata": {},
   "source": [
    "## Rapport TME1 - Arbres de décision, sélection de modèles\n",
    "\n",
    "Membres du binôme :\n",
    "- KRISNI Almehdi\n",
    "- ARICHANDRA Santhos\n",
    "\n",
    "Dans ce TME, on aborde les aspects essentiels des arbres de décision. Les arbres sont des modèles de classification hiérarchique, en d'autres termes, pour des exemples de la forme **x** = *(x1, x2, ..., xd)*, on associe à chaque noeud de l'arbre un test sur une des dimensions de *xi* de la forme *xi* <= s avec s une valeur réelle. Le test indique le noeud fils devant être sélectionné. La feuille atteinte après l'ensemble des tests est la classe prédite pour un exemple.\n",
    "\n",
    "On cherche à implémenter les fonctions utiles au calcul du partitionnement optimal, soit les fonctions de calcul d'entropie. Toutes les méthodes sont situées dans le fichier *entropie.py* du répertoire TME1."
   ]
  },
  {
   "cell_type": "code",
   "execution_count": 4,
   "metadata": {},
   "outputs": [],
   "source": [
    "# Import du fichier entropie.py\n",
    "import entropie as ent\n",
    "\n",
    "# Import utilitaires\n",
    "import random\n",
    "import numpy as np\n",
    "import pickle"
   ]
  },
  {
   "cell_type": "markdown",
   "metadata": {},
   "source": [
    "### Question 1\n",
    "On code la méthode *entropie* permettant à partir d'un vecteur (une liste ou un vecteur numpy), de calculer l'entropie de ce vecteur. Une entropie importante représente un ensemble de données hétérogène tandis qu'une entropie nulle représente un ensemble homogéne, soit composé d'une seule et unique valeur.\n",
    "\n",
    "On réalise quelques tests avec la méthode crée sur des vecteurs différents."
   ]
  },
  {
   "cell_type": "code",
   "execution_count": 5,
   "metadata": {},
   "outputs": [
    {
     "name": "stdout",
     "output_type": "stream",
     "text": [
      "Vecteur : [3, 2, 3, 4, 3, 2, 3, 7, 8, 10] \tEntropie : 1.6094379124341\n",
      "Vecteur : [1, 7, 9, 10, 7, 0, 3, 0, 0, 5] \tEntropie : 1.8343719702816235\n",
      "Vecteur : [1, 1, 1, 1, 1, 1, 1, 1, 1, 1] \tEntropie : 0.0\n"
     ]
    }
   ],
   "source": [
    "# Tests d'entropie\n",
    "vT1 = [random.randint(0, 10) for _ in range(10)]\n",
    "vT2 = [random.randint(0, 10) for _ in range(10)]\n",
    "vT3 = [1 for _ in range(10)]\n",
    "\n",
    "print(\"Vecteur :\", vT1, \"\\tEntropie :\", ent.entropie(vT1))\n",
    "print(\"Vecteur :\", vT2, \"\\tEntropie :\", ent.entropie(vT2))\n",
    "print(\"Vecteur :\", vT3, \"\\tEntropie :\", ent.entropie(vT3))"
   ]
  },
  {
   "cell_type": "markdown",
   "metadata": {},
   "source": [
    "### Question 2\n",
    "\n",
    "On code la méthode *entropie_cond* qui à partir d'une liste de vecteurs, calcule l'homogéinité de la partition obtenue. Il s'agit de la moyenne pondérée des entropies des sous-ensembles obtenus.\n",
    "\n",
    "On réalise un test avec les vecteurs créés à l'étape précédente."
   ]
  },
  {
   "cell_type": "code",
   "execution_count": 6,
   "metadata": {},
   "outputs": [
    {
     "name": "stdout",
     "output_type": "stream",
     "text": [
      "Ensemble de vecteurs :\n",
      "[3, 2, 3, 4, 3, 2, 3, 7, 8, 10]\n",
      "[1, 7, 9, 10, 7, 0, 3, 0, 0, 5]\n",
      "[1, 1, 1, 1, 1, 1, 1, 1, 1, 1]\n",
      "\n",
      "Entropie conditionnelle de la partition : 1.1479366275719078\n"
     ]
    }
   ],
   "source": [
    "# Test d'entropie conditionnelle\n",
    "print(\"Ensemble de vecteurs :\", vT1, vT2, vT3, sep=\"\\n\")\n",
    "print(\"\\nEntropie conditionnelle de la partition :\", ent.entropie_cond([vT1, vT2, vT3]))"
   ]
  },
  {
   "cell_type": "markdown",
   "metadata": {},
   "source": [
    "### Question 3\n",
    "\n",
    "Afin de charger un extrait des données de la base imdb, on dispose d'un code fourni par le sujet du TME permettant le chargement d'une zone précise du fichier. On exécute le code afin de conserver en mémoire les données et ne pas avoir à les recharger à chaque utilisation."
   ]
  },
  {
   "cell_type": "code",
   "execution_count": 7,
   "metadata": {},
   "outputs": [
    {
     "ename": "NameError",
     "evalue": "name 'np' is not defined",
     "output_type": "error",
     "traceback": [
      "\u001b[1;31m---------------------------------------------------------------------------\u001b[0m",
      "\u001b[1;31mNameError\u001b[0m                                 Traceback (most recent call last)",
      "\u001b[1;32m~\\AppData\\Local\\Temp/ipykernel_17128/980973616.py\u001b[0m in \u001b[0;36m<module>\u001b[1;34m\u001b[0m\n\u001b[0;32m      4\u001b[0m \u001b[1;31m# La derniere colonne est le vote\u001b[0m\u001b[1;33m\u001b[0m\u001b[1;33m\u001b[0m\u001b[0m\n\u001b[0;32m      5\u001b[0m \u001b[0mdatax\u001b[0m \u001b[1;33m=\u001b[0m \u001b[0mdata\u001b[0m \u001b[1;33m[\u001b[0m\u001b[1;33m:\u001b[0m\u001b[1;33m,\u001b[0m\u001b[1;33m:\u001b[0m\u001b[1;36m32\u001b[0m\u001b[1;33m]\u001b[0m\u001b[1;33m\u001b[0m\u001b[1;33m\u001b[0m\u001b[0m\n\u001b[1;32m----> 6\u001b[1;33m \u001b[0mdatay\u001b[0m \u001b[1;33m=\u001b[0m \u001b[0mnp\u001b[0m\u001b[1;33m.\u001b[0m\u001b[0marray\u001b[0m\u001b[1;33m(\u001b[0m\u001b[1;33m[\u001b[0m\u001b[1;36m1\u001b[0m \u001b[1;32mif\u001b[0m \u001b[0mx\u001b[0m \u001b[1;33m[\u001b[0m\u001b[1;36m33\u001b[0m\u001b[1;33m]\u001b[0m \u001b[1;33m>\u001b[0m \u001b[1;36m6.5\u001b[0m \u001b[1;32melse\u001b[0m \u001b[1;33m-\u001b[0m\u001b[1;36m1\u001b[0m \u001b[1;32mfor\u001b[0m \u001b[0mx\u001b[0m \u001b[1;32min\u001b[0m \u001b[0mdata\u001b[0m \u001b[1;33m]\u001b[0m\u001b[1;33m)\u001b[0m\u001b[1;33m\u001b[0m\u001b[1;33m\u001b[0m\u001b[0m\n\u001b[0m",
      "\u001b[1;31mNameError\u001b[0m: name 'np' is not defined"
     ]
    }
   ],
   "source": [
    "# Data : tableau (films, features), id2titles : dictionnaire id -> titre,\n",
    "# fields : id feature -> nom\n",
    "[data, id2titles, fields]= pickle.load(open(\"imdb_extrait.pkl\", \"rb\"))\n",
    "# La derniere colonne est le vote\n",
    "datax = data [:,:32]\n",
    "datay = np.array([1 if x [33] > 6.5 else -1 for x in data ])"
   ]
  }
 ],
 "metadata": {
  "interpreter": {
   "hash": "0882f64853dad4c2959728fd5765a8f4f31953d4de2b55ec484562a906c43e55"
  },
  "kernelspec": {
   "display_name": "Python 3.9.7 64-bit",
   "language": "python",
   "name": "python3"
  },
  "language_info": {
   "codemirror_mode": {
    "name": "ipython",
    "version": 3
   },
   "file_extension": ".py",
   "mimetype": "text/x-python",
   "name": "python",
   "nbconvert_exporter": "python",
   "pygments_lexer": "ipython3",
   "version": "3.9.7"
  },
  "orig_nbformat": 4
 },
 "nbformat": 4,
 "nbformat_minor": 2
}
