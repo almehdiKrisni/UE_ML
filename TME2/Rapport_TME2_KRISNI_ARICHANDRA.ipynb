{
 "cells": [
  {
   "cell_type": "markdown",
   "metadata": {},
   "source": [
    "## Rapport TME1 - Arbres de décision, sélection de modèles\n",
    "\n",
    "Membres du binôme :\n",
    "- KRISNI Almehdi\n",
    "- ARICHANDRA Santhos\n",
    "\n",
    "Dans ce TME, on prend en main les algorithmes d'estimation de densité, soit les histogrammes et les méthodes à noyaux. On utilise 2 classes, dont le code est founi: *Histogramme* et *KernelDensity*, qui héritent de la classe abstraite *Density*.\n",
    "\n",
    "On complète le code de la classe *Density* avec une méthode **score(data)** permettant de renvoyer la log-vraisemblance des données *data* à l'estimateur. On gère les densités nulles avec une très petite valeur à chaque vraisemblance avant le passage au log.\n",
    "\n",
    "### **Chargement des données - API Google Places, Points d'intérêt de Paris"
   ]
  }
 ],
 "metadata": {
  "language_info": {
   "name": "python"
  },
  "orig_nbformat": 4
 },
 "nbformat": 4,
 "nbformat_minor": 2
}
