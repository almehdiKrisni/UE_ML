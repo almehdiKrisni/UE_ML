{
 "cells": [
  {
   "cell_type": "markdown",
   "metadata": {},
   "source": [
    "## **TME 3 - Descente de gradient**\n",
    "\n",
    "Membres du binôme :\n",
    "- KRISNI Almehdi (3800519)\n",
    "- ARICHANDRA Santhos (3802651)\n",
    "\n",
    "L'objectif de ce TME est d'expérimenter sur la descente de gradient dans le cadre de la régression linéaire et de la régression logistique. L'espace d'entrée est de dimension *d*, les labels sont des réels (linéaire) ou dans {-1, 1} (logistique). L'espace de recherche fonctionnel est considéré par **w**, un vecteur réel de dimension *d* et avec *n* le nombre d'exemples. La notion de biais ne sera pas retenu dans le cadre de ce TME, donc pas de poids à **w0**.\n",
    "\n",
    "On s'occupe dans un premier temps à importer les fichiers nécessaires à la création du rapport et implémenter les fonctions de coût dans le fichier *tme3*.\n",
    "\n",
    "### **Implémentation des fonctions de coût**\n",
    "\n",
    "Les méthodes allant être codées ne contiennent aucune boucle, ce qui permet de meilleurs résultats en terme d'exécution."
   ]
  },
  {
   "cell_type": "code",
   "execution_count": null,
   "metadata": {},
   "outputs": [],
   "source": [
    "# Import du fichier tme3.py\n",
    "from tme3 import *"
   ]
  }
 ],
 "metadata": {
  "language_info": {
   "name": "python"
  },
  "orig_nbformat": 4
 },
 "nbformat": 4,
 "nbformat_minor": 2
}
