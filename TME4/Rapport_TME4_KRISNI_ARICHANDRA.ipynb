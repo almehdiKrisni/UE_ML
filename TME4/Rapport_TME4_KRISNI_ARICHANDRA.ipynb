{
 "cells": [
  {
   "cell_type": "markdown",
   "metadata": {},
   "source": [
    "## **TME 4 - Perceptron**\n",
    "\n",
    "Membres du binôme :\n",
    "- KRISNI Almehdi (3800519)\n",
    "- ARICHANDRA Santhos (3802651)\n",
    "\n",
    "Afin de réaliser ce TME, nous allons avoir besoin des fonctions codées dans le TME 3. On commence donc par importer tout ce dont on à besoin dans le fichier *tme4.py*."
   ]
  },
  {
   "cell_type": "code",
   "execution_count": 22,
   "metadata": {},
   "outputs": [
    {
     "name": "stdout",
     "output_type": "stream",
     "text": [
      "The autoreload extension is already loaded. To reload it, use:\n",
      "  %reload_ext autoreload\n"
     ]
    }
   ],
   "source": [
    "# On importe le fichier tme4.py\n",
    "from tme4 import *\n",
    "\n",
    "# Rechargement automatique des fichiers importés (vu dans l'UE de Data Science en L3)\n",
    "%load_ext autoreload\n",
    "%autoreload 2"
   ]
  },
  {
   "cell_type": "markdown",
   "metadata": {},
   "source": [
    "### **Perceptron et classe Linéaire**\n",
    "\n",
    "On implémente dans un premier temps la fonctions **perceptron_loss(w,x,y)** et son gradient **perceptron_grad(w,x,y)**.<br/>Le coût d'un Perceptron est le maximum entre 0 et *(-y * <x.w>)*.<br/>Lors de la descente de gradient, on ne réalise une correction que sur les exemples mal classés, soit les exemples pour lesquels on a la valeur*(y * <x.w>)*  négative.\n",
    "\n",
    "On complète également le squelette de la classe Linéaire en y mettant à jour :\n",
    "- **predict(self,datax)** inférant le label des données datax\n",
    "- **score(self,datax,datay)** permettant de calculer le pourcentage de bonne classification\n",
    "- **fit(self,datax,datay)** réalisant la descente de gradient pendant *max_iter* itérations avec un pas *eps* en utilisant le coût **loss** et le gradient **loss_g**"
   ]
  },
  {
   "cell_type": "markdown",
   "metadata": {},
   "source": [
    "### **Données USPS**\n",
    "\n",
    "Dans le cadre du TME, nous avons à notre disposition 2 fichiers données USPS se situant dans le dossier *data*.\n",
    "<br/>Il s'agit d'un ensemble de données d'apprentissage et d'un ensemble de données test.\n",
    "\n",
    "On commence par charger et afficher ces données."
   ]
  },
  {
   "cell_type": "code",
   "execution_count": 23,
   "metadata": {},
   "outputs": [
    {
     "name": "stdout",
     "output_type": "stream",
     "text": [
      "Les données sont de dimensions : (7291, 256)\n",
      "Classe de la donnée affichée dans l'ordre des images - 0\n",
      "Classe de la donnée affichée dans l'ordre des images - 0\n",
      "Classe de la donnée affichée dans l'ordre des images - 2\n",
      "Classe de la donnée affichée dans l'ordre des images - 0\n",
      "Classe de la donnée affichée dans l'ordre des images - 4\n"
     ]
    },
    {
     "data": {
      "image/png": "[encoded data removed]",
      "text/plain": [
       "<Figure size 432x288 with 1 Axes>"
      ]
     },
     "metadata": {
      "needs_background": "light"
     },
     "output_type": "display_data"
    },
    {
     "data": {
      "image/png": "[encoded data removed]",
      "text/plain": [
       "<Figure size 432x288 with 1 Axes>"
      ]
     },
     "metadata": {
      "needs_background": "light"
     },
     "output_type": "display_data"
    },
    {
     "data": {
      "image/png": "[encoded data removed]",
      "text/plain": [
       "<Figure size 432x288 with 1 Axes>"
      ]
     },
     "metadata": {
      "needs_background": "light"
     },
     "output_type": "display_data"
    },
    {
     "data": {
      "image/png": "[encoded data removed]",
      "text/plain": [
       "<Figure size 432x288 with 1 Axes>"
      ]
     },
     "metadata": {
      "needs_background": "light"
     },
     "output_type": "display_data"
    },
    {
     "data": {
      "image/png": "[encoded data removed]",
      "text/plain": [
       "<Figure size 432x288 with 1 Axes>"
      ]
     },
     "metadata": {
      "needs_background": "light"
     },
     "output_type": "display_data"
    }
   ],
   "source": [
    "# Chargement et affichage des données USPS\n",
    "dataxapp, datayapp = load_usps(\"data/USPS_train.txt\")\n",
    "dataxtrain, dataytrain = load_usps(\"data/USPS_test.txt\")\n",
    "\n",
    "# On affiche les dimensions des données\n",
    "print(\"Les données sont de dimensions :\", dataxapp.shape)\n",
    "\n",
    "# On affiche la représentation image des données\n",
    "for i in [np.random.randint(0, len(datayapp)) for _ in range(5)] :\n",
    "    plt.figure() # Pour pouvoir affiche plusieurs images, sinon uniquement la dernière sera affichée\n",
    "    show_usps(dataxapp[i])\n",
    "    print(\"Classe de la donnée affichée dans l'ordre des images -\", datayapp[i])"
   ]
  },
  {
   "cell_type": "markdown",
   "metadata": {},
   "source": [
    "### **Mini-batch et descente stochastique**\n",
    "\n",
    "On modifie désormais la fonction **fit** afin qu'elle puisse effectue la descente de gradient de différentes manières en fonction de notre choix. On ajoute alors un paramètre *mode*, étant par défaut sur \"batch\", allant nous permettre de choisir le mode que l'on souhaite utiliser pour l'apprentissage.\n",
    "\n",
    "Les 3 valeurs de *mode* acceptées sont donc :\n",
    "- \"batch\"\n",
    "- \"stoch\"\n",
    "- \"mini\"\n",
    "\n",
    "On ajoute également un paramètre *part* dont la valeur ne sera utilisée que lors d'une descente de gradient en mode mini-batch, et sa valeur par défaut est de 10, ainsi que le pramètre *doPlot*, allant préciser si on souhaite un affichage de l'évolution de la loss, qui est par défaut à False.\n",
    "\n",
    "Aayant déjà codé les différentes descentes de gradient pendant le TME 3, on utilise les fonctions présentes dans le fichier *tme3_for_tme4*."
   ]
  }
 ],
 "metadata": {
  "interpreter": {
   "hash": "0882f64853dad4c2959728fd5765a8f4f31953d4de2b55ec484562a906c43e55"
  },
  "kernelspec": {
   "display_name": "Python 3.9.7 64-bit",
   "language": "python",
   "name": "python3"
  },
  "language_info": {
   "codemirror_mode": {
    "name": "ipython",
    "version": 3
   },
   "file_extension": ".py",
   "mimetype": "text/x-python",
   "name": "python",
   "nbconvert_exporter": "python",
   "pygments_lexer": "ipython3",
   "version": "3.9.7"
  },
  "orig_nbformat": 4
 },
 "nbformat": 4,
 "nbformat_minor": 2
}
